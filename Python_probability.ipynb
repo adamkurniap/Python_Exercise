{
  "nbformat": 4,
  "nbformat_minor": 0,
  "metadata": {
    "colab": {
      "name": "Homework 3_Adam Kurnia Pradana.ipynb",
      "provenance": [],
      "collapsed_sections": [
        "cs8paWeIxDfL"
      ]
    },
    "kernelspec": {
      "name": "python3",
      "display_name": "Python 3"
    },
    "language_info": {
      "name": "python"
    }
  },
  "cells": [
    {
      "cell_type": "markdown",
      "metadata": {
        "id": "cs8paWeIxDfL"
      },
      "source": [
        "#Basic\n"
      ]
    },
    {
      "cell_type": "markdown",
      "metadata": {
        "id": "Kix4NxZtxUY0"
      },
      "source": [
        "A. 3 Pangkat 4"
      ]
    },
    {
      "cell_type": "code",
      "metadata": {
        "colab": {
          "base_uri": "https://localhost:8080/"
        },
        "id": "3wS9wcthxfCR",
        "outputId": "b91b031f-779c-41c0-9674-6e51c347483b"
      },
      "source": [
        "print(3 ** 4)"
      ],
      "execution_count": null,
      "outputs": [
        {
          "output_type": "stream",
          "name": "stdout",
          "text": [
            "81\n"
          ]
        }
      ]
    },
    {
      "cell_type": "markdown",
      "metadata": {
        "id": "lhmh2SyPxnMC"
      },
      "source": [
        "B. 475 Modulo 2"
      ]
    },
    {
      "cell_type": "code",
      "metadata": {
        "colab": {
          "base_uri": "https://localhost:8080/"
        },
        "id": "sq6lSDpgxuUv",
        "outputId": "e93715af-6952-4d2d-e002-bca6fcd43021"
      },
      "source": [
        "print (475 % 2)"
      ],
      "execution_count": null,
      "outputs": [
        {
          "output_type": "stream",
          "name": "stdout",
          "text": [
            "1\n"
          ]
        }
      ]
    },
    {
      "cell_type": "markdown",
      "metadata": {
        "id": "GHdca0HQx2SH"
      },
      "source": [
        "# Medium"
      ]
    },
    {
      "cell_type": "markdown",
      "metadata": {
        "id": "oPGKWOVJyHmM"
      },
      "source": [
        "A. akar dari 1001 dibulatkan ke atas"
      ]
    },
    {
      "cell_type": "code",
      "metadata": {
        "colab": {
          "base_uri": "https://localhost:8080/"
        },
        "id": "nQwgVjrCyCTl",
        "outputId": "d05c2d12-aeb8-4d3d-df86-8262570aa838"
      },
      "source": [
        "akar1001 = math.sqrt(1001)\n",
        "akar1001bulat = math.ceil(akar1001)\n",
        "print (akar1001bulat)"
      ],
      "execution_count": null,
      "outputs": [
        {
          "output_type": "stream",
          "name": "stdout",
          "text": [
            "32\n"
          ]
        }
      ]
    },
    {
      "cell_type": "markdown",
      "metadata": {
        "id": "sezVqwQ0zk-k"
      },
      "source": [
        "B. kalikan dengan angka 2 pada setiap element list A = [2,5,8,9]"
      ]
    },
    {
      "cell_type": "code",
      "metadata": {
        "colab": {
          "base_uri": "https://localhost:8080/"
        },
        "id": "QVDEynS29t5-",
        "outputId": "20776135-d50c-4905-d286-ba0d76f3365e"
      },
      "source": [
        "A = [2,5,8,9]\n",
        "A_dikali = [element * 2 for element in A]\n",
        "print (A_dikali)"
      ],
      "execution_count": null,
      "outputs": [
        {
          "output_type": "stream",
          "name": "stdout",
          "text": [
            "[4, 10, 16, 18]\n"
          ]
        }
      ]
    },
    {
      "cell_type": "markdown",
      "metadata": {
        "id": "R8LP3CO5_Q6X"
      },
      "source": [
        "# Hard"
      ]
    },
    {
      "cell_type": "code",
      "metadata": {
        "id": "2jg4hE_R_gB-"
      },
      "source": [
        "A. Buatlah rumus probabilitas (peluang) dengan inputan objek yang akan dihitung peluangnya.\n",
        "              Problem : Terdapat 30 bola didalam sebuah keranjang, dimana terdapat\n",
        "              5 bola berwarna putih,\n",
        "              12 bola berwarna hitam,\n",
        "              8 bola berwarna merah\n",
        "              5 bola berwarna hijau\n",
        "              Hitung peluang masing-masing peluang warna bola terambil jika diambil satu\n",
        "              bola secara acak."
      ],
      "execution_count": null,
      "outputs": []
    },
    {
      "cell_type": "code",
      "metadata": {
        "id": "jvhtRy2UEqU_",
        "colab": {
          "base_uri": "https://localhost:8080/"
        },
        "outputId": "43f4358b-0326-481b-eb9d-d872ef0012d3"
      },
      "source": [
        "isi_keranjang = {\n",
        "      \"putih\" : 5,\n",
        "      \"hitam\" : 12,\n",
        "      \"merah\" : 8,\n",
        "      \"hijau\" : 5\n",
        "}\n",
        "value_isi_keranjang = isi_keranjang.values()\n",
        "print(value_isi_keranjang)\n",
        "\n",
        "total_isi_keranjang = sum(value_isi_keranjang)\n",
        "print (total_isi_keranjang)\n",
        "\n",
        "str_input = input()\n",
        "print(\"Probabilitas terambilnya bola warna \" + str_input + \" adalah \" + str(isi_keranjang[str_input]) + \"/\" + str(total_isi_keranjang))\n",
        "print(\"Probabilitas terambilnya bola warna \" + str_input + \" adalah \" + str(isi_keranjang[str_input]/total_bola))\n",
        "\n"
      ],
      "execution_count": null,
      "outputs": [
        {
          "output_type": "stream",
          "name": "stdout",
          "text": [
            "dict_values([5, 12, 8, 5])\n",
            "30\n",
            "hitam\n",
            "Probabilitas terambilnya bola warna hitam adalah 12/30\n",
            "Probabilitas terambilnya bola warna hitam adalah 0.4\n"
          ]
        }
      ]
    },
    {
      "cell_type": "code",
      "metadata": {
        "id": "WZhQMz4MO5-S"
      },
      "source": [
        ""
      ],
      "execution_count": null,
      "outputs": []
    }
  ]
}