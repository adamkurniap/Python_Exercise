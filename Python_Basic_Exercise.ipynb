{
  "nbformat": 4,
  "nbformat_minor": 0,
  "metadata": {
    "colab": {
      "name": "Python Basic Exercise.ipynb",
      "provenance": [],
      "collapsed_sections": [
        "cs8paWeIxDfL"
      ]
    },
    "kernelspec": {
      "display_name": "Python 3",
      "name": "python3"
    },
    "language_info": {
      "name": "python"
    }
  },
  "cells": [
    {
      "cell_type": "markdown",
      "metadata": {
        "id": "cs8paWeIxDfL"
      },
      "source": [
        "#Basic\n"
      ]
    },
    {
      "cell_type": "markdown",
      "metadata": {
        "id": "Kix4NxZtxUY0"
      },
      "source": [
        "A. 3 Pangkat 4"
      ]
    },
    {
      "cell_type": "code",
      "metadata": {
        "colab": {
          "base_uri": "https://localhost:8080/"
        },
        "id": "3wS9wcthxfCR",
        "outputId": "b91b031f-779c-41c0-9674-6e51c347483b"
      },
      "source": [
        "print(3 ** 4)"
      ],
      "execution_count": null,
      "outputs": [
        {
          "name": "stdout",
          "output_type": "stream",
          "text": [
            "81\n"
          ]
        }
      ]
    },
    {
      "cell_type": "markdown",
      "metadata": {
        "id": "lhmh2SyPxnMC"
      },
      "source": [
        "B. 475 Modulo 2"
      ]
    },
    {
      "cell_type": "code",
      "metadata": {
        "colab": {
          "base_uri": "https://localhost:8080/"
        },
        "id": "sq6lSDpgxuUv",
        "outputId": "e93715af-6952-4d2d-e002-bca6fcd43021"
      },
      "source": [
        "print (475 % 2)"
      ],
      "execution_count": null,
      "outputs": [
        {
          "name": "stdout",
          "output_type": "stream",
          "text": [
            "1\n"
          ]
        }
      ]
    },
    {
      "cell_type": "markdown",
      "metadata": {
        "id": "GHdca0HQx2SH"
      },
      "source": [
        "# Medium"
      ]
    },
    {
      "cell_type": "markdown",
      "metadata": {
        "id": "oPGKWOVJyHmM"
      },
      "source": [
        "A. akar dari 1001 dibulatkan ke atas"
      ]
    },
    {
      "cell_type": "code",
      "metadata": {
        "colab": {
          "base_uri": "https://localhost:8080/"
        },
        "id": "nQwgVjrCyCTl",
        "outputId": "d05c2d12-aeb8-4d3d-df86-8262570aa838"
      },
      "source": [
        "akar1001 = math.sqrt(1001)\n",
        "akar1001bulat = math.ceil(akar1001)\n",
        "print (akar1001bulat)"
      ],
      "execution_count": null,
      "outputs": [
        {
          "name": "stdout",
          "output_type": "stream",
          "text": [
            "32\n"
          ]
        }
      ]
    },
    {
      "cell_type": "markdown",
      "metadata": {
        "id": "sezVqwQ0zk-k"
      },
      "source": [
        "B. kalikan dengan angka 2 pada setiap element list A = [2,5,8,9]"
      ]
    },
    {
      "cell_type": "code",
      "metadata": {
        "colab": {
          "base_uri": "https://localhost:8080/"
        },
        "id": "QVDEynS29t5-",
        "outputId": "20776135-d50c-4905-d286-ba0d76f3365e"
      },
      "source": [
        "A = [2,5,8,9]\n",
        "A_dikali = [element * 2 for element in A]\n",
        "print (A_dikali)"
      ],
      "execution_count": null,
      "outputs": [
        {
          "name": "stdout",
          "output_type": "stream",
          "text": [
            "[4, 10, 16, 18]\n"
          ]
        }
      ]
    },
    {
      "cell_type": "markdown",
      "metadata": {
        "id": "R8LP3CO5_Q6X"
      },
      "source": [
        "# Hard"
      ]
    },
    {
      "cell_type": "code",
      "metadata": {
        "id": "2jg4hE_R_gB-"
      },
      "source": [
        "A. Buatlah rumus probabilitas (peluang) dengan inputan objek yang akan dihitung peluangnya.\n",
        "              Problem : Terdapat 30 bola didalam sebuah keranjang, dimana terdapat\n",
        "              5 bola berwarna putih,\n",
        "              12 bola berwarna hitam,\n",
        "              8 bola berwarna merah\n",
        "              5 bola berwarna hijau\n",
        "              Hitung peluang masing-masing peluang warna bola terambil jika diambil satu\n",
        "              bola secara acak."
      ],
      "execution_count": null,
      "outputs": []
    },
    {
      "cell_type": "code",
      "metadata": {
        "colab": {
          "base_uri": "https://localhost:8080/"
        },
        "id": "mrPZhzShAD7y",
        "outputId": "1ca32a53-f1f8-4abc-c01a-ca11aff22899"
      },
      "source": [
        "set_bola = {\n",
        "    \"putih\" : 5,\n",
        "    \"hitam\" : 12,\n",
        "    \"merah\" : 8,\n",
        "    \"hijau\" : 5\n",
        "}\n",
        "value_set_bola = set_bola.values()\n",
        "print(value_set_bola)\n",
        "\n",
        "total_bola =  sum(value_set_bola)\n",
        "print(total_bola)\n",
        "\n",
        "str_input = input()\n",
        "print(str(set_bola[str_input]) + \"/\" + str(total_bola))\n",
        "print(set_bola[str_input]/total_bola)"
      ],
      "execution_count": null,
      "outputs": [
        {
          "output_type": "stream",
          "name": "stdout",
          "text": [
            "dict_values([5, 12, 8, 5])\n",
            "30\n",
            "hitam\n",
            "12/30\n",
            "0.4\n"
          ]
        }
      ]
    },
    {
      "cell_type": "code",
      "metadata": {
        "id": "jvhtRy2UEqU_",
        "colab": {
          "base_uri": "https://localhost:8080/"
        },
        "outputId": "118e8ccd-426f-4c26-a135-579bdee653f6"
      },
      "source": [
        "angka = 98\n",
        "pembagi = 5\n",
        "\n",
        "sisaBagi= angka % pembagi\n",
        "if (angka % 2 == 0):\n",
        "  print(f\"sisa bagi {angka} dengan {pembagi} bilangan genap\")\n",
        "else:\n",
        "  print(f\"sisa bagi {angka} dengan {pembagi} bilangan ganjil\")"
      ],
      "execution_count": null,
      "outputs": [
        {
          "output_type": "stream",
          "name": "stdout",
          "text": [
            "sisa bagi 98 dengan 5 bilangan genap\n"
          ]
        }
      ]
    },
    {
      "cell_type": "code",
      "metadata": {
        "id": "jro2W40L7a4U"
      },
      "source": [
        "a = 5\n",
        "b = 5\n",
        "while (b > a):\n",
        "  print(b, end=' ')\n",
        "  b -= b"
      ],
      "execution_count": null,
      "outputs": []
    },
    {
      "cell_type": "code",
      "metadata": {
        "colab": {
          "base_uri": "https://localhost:8080/"
        },
        "id": "YhP6Avxz8Ow8",
        "outputId": "5e7a5e4f-c711-4317-d165-8cff9aa7546c"
      },
      "source": [
        "x = 1\n",
        "y = 6\n",
        "while x <= y:\n",
        "  print(x, end=' ')\n",
        "  print(y, end=' ')\n",
        "  x += 1\n",
        "  y -= 1"
      ],
      "execution_count": null,
      "outputs": [
        {
          "output_type": "stream",
          "name": "stdout",
          "text": [
            "1 6 2 5 3 4 "
          ]
        }
      ]
    }
  ]
}