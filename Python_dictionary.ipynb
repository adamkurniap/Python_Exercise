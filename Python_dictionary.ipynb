{
  "nbformat": 4,
  "nbformat_minor": 0,
  "metadata": {
    "colab": {
      "name": "Quiz Session 10",
      "provenance": []
    },
    "kernelspec": {
      "name": "python3",
      "display_name": "Python 3"
    },
    "language_info": {
      "name": "python"
    }
  },
  "cells": [
    {
      "cell_type": "code",
      "metadata": {
        "id": "XCZdNoW61JHC"
      },
      "source": [
        "angka = 98\n",
        "pembagi = 5\n",
        "\n",
        "sisaBagi= angka % pembagi\n",
        "if (angka % 2 == 0):\n",
        "  print(f\"sisa bagi {angka} dengan {pembagi} bilangan genap\")\n",
        "else:\n",
        "  print(f\"sisa bagi {angka} dengan {pembagi} bilangan ganjil\")"
      ],
      "execution_count": null,
      "outputs": []
    },
    {
      "cell_type": "code",
      "metadata": {
        "colab": {
          "base_uri": "https://localhost:8080/"
        },
        "id": "s8DzcRYa1ODO",
        "outputId": "bac62f04-1a12-4faf-82a2-d422050e11dc"
      },
      "source": [
        "listMakanan = [\"Lontong\", \"Sate\", \"Sop\"]\n",
        "\n",
        "makanan = \"Ketopark\"\n",
        "if makanan in listMakanan:\n",
        "  listMakanan.remove(makanan)\n",
        "else:\n",
        "  listMakanan.append(makanan)\n",
        "  \n",
        "print(listMakanan)"
      ],
      "execution_count": null,
      "outputs": [
        {
          "output_type": "stream",
          "name": "stdout",
          "text": [
            "['Lontong', 'Sate', 'Sop', 'Ketopark']\n"
          ]
        }
      ]
    },
    {
      "cell_type": "code",
      "metadata": {
        "colab": {
          "base_uri": "https://localhost:8080/"
        },
        "id": "kupByoju2frX",
        "outputId": "96a5f102-bc99-41f4-a9a2-bae42e30acdf"
      },
      "source": [
        "dictPeserta = {\n",
        "    \"nama\": \"Adam Kurnia\",\n",
        "    \"nilai\": 90,\n",
        "}\n",
        "\n",
        "if dictPeserta[\"nilai\"] > 80:\n",
        "  dictPeserta[\"status\"] = \"Lulus\"\n",
        "elif dictPeserta[\"nilai\"] > 50:\n",
        "  dictPeserta[\"status\"] = \"Remidial\"\n",
        "else:\n",
        "  dictPeserta[\"status\"] = \"Gagal\"\n",
        "\n",
        "print(dictPeserta)"
      ],
      "execution_count": null,
      "outputs": [
        {
          "output_type": "stream",
          "name": "stdout",
          "text": [
            "{'nama': 'Adam Kurnia', 'nilai': 90, 'status': 'Lulus'}\n"
          ]
        }
      ]
    }
  ]
}