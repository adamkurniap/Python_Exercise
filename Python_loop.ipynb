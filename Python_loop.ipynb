{
  "nbformat": 4,
  "nbformat_minor": 0,
  "metadata": {
    "colab": {
      "name": "session 10.ipynb",
      "provenance": [],
      "collapsed_sections": []
    },
    "kernelspec": {
      "name": "python3",
      "display_name": "Python 3"
    },
    "language_info": {
      "name": "python"
    }
  },
  "cells": [
    {
      "cell_type": "markdown",
      "metadata": {
        "id": "qN9k5z91g0Cf"
      },
      "source": [
        "#Basic While Loops"
      ]
    },
    {
      "cell_type": "code",
      "metadata": {
        "colab": {
          "base_uri": "https://localhost:8080/"
        },
        "id": "qg9EJ7oVg4OR",
        "outputId": "dcac5e57-7cec-47d4-bef0-54ec1cb08d39"
      },
      "source": [
        "i = 0\n",
        "while (i < 5) :\n",
        "    print(i)\n",
        "    i = i + 1"
      ],
      "execution_count": 1,
      "outputs": [
        {
          "output_type": "stream",
          "name": "stdout",
          "text": [
            "0\n",
            "1\n",
            "2\n",
            "3\n",
            "4\n"
          ]
        }
      ]
    },
    {
      "cell_type": "code",
      "metadata": {
        "colab": {
          "base_uri": "https://localhost:8080/"
        },
        "id": "J2Dq57oYh4MH",
        "outputId": "6e8e2649-1e31-44df-a4bc-73a9a94fd3fb"
      },
      "source": [
        "i = 0\n",
        "while (i < 5) :\n",
        "    print(i, end=' ')\n",
        "    i = i + 1"
      ],
      "execution_count": null,
      "outputs": [
        {
          "output_type": "stream",
          "name": "stdout",
          "text": [
            "0 1 2 3 4 "
          ]
        }
      ]
    },
    {
      "cell_type": "code",
      "metadata": {
        "colab": {
          "base_uri": "https://localhost:8080/"
        },
        "id": "RC0ZDet0jFPC",
        "outputId": "65831655-d899-4b28-effc-552445d7fe41"
      },
      "source": [
        "listAngka = []\n",
        "j = 0\n",
        "while (j < 5) :\n",
        "    listAngka.append(j)\n",
        "    j += 1\n",
        "print(listAngka)"
      ],
      "execution_count": 2,
      "outputs": [
        {
          "output_type": "stream",
          "name": "stdout",
          "text": [
            "[0, 1, 2, 3, 4]\n"
          ]
        }
      ]
    },
    {
      "cell_type": "markdown",
      "metadata": {
        "id": "FbKfnj7PkoDb"
      },
      "source": [
        "#Basic For Loops"
      ]
    },
    {
      "cell_type": "code",
      "metadata": {
        "colab": {
          "base_uri": "https://localhost:8080/"
        },
        "id": "DvSIdum0krU0",
        "outputId": "ea42ffd6-cf35-44fe-9a57-c72d0d0e17d8"
      },
      "source": [
        "range(0,4)"
      ],
      "execution_count": 6,
      "outputs": [
        {
          "output_type": "execute_result",
          "data": {
            "text/plain": [
              "range(0, 4)"
            ]
          },
          "metadata": {},
          "execution_count": 6
        }
      ]
    },
    {
      "cell_type": "code",
      "metadata": {
        "colab": {
          "base_uri": "https://localhost:8080/"
        },
        "id": "SjysMOnQky_F",
        "outputId": "a0945e88-31cb-4b74-c41b-cd489c7fd401"
      },
      "source": [
        "for i in range(0,10,2) :\n",
        "  print(i, end=' ')"
      ],
      "execution_count": 9,
      "outputs": [
        {
          "output_type": "stream",
          "name": "stdout",
          "text": [
            "0 2 4 6 8 "
          ]
        }
      ]
    },
    {
      "cell_type": "markdown",
      "metadata": {
        "id": "m_S2vBo2lfjs"
      },
      "source": [
        "#For Loop - String"
      ]
    },
    {
      "cell_type": "markdown",
      "metadata": {
        "id": "8VCxd1Zql2pI"
      },
      "source": [
        ""
      ]
    },
    {
      "cell_type": "code",
      "metadata": {
        "colab": {
          "base_uri": "https://localhost:8080/"
        },
        "id": "omks99caljTM",
        "outputId": "e903baab-d0d4-4985-dae9-7485c3158fd4"
      },
      "source": [
        "x = 'adam'\n",
        "for i in x:\n",
        "  print(i, end=\"\")"
      ],
      "execution_count": 10,
      "outputs": [
        {
          "output_type": "stream",
          "name": "stdout",
          "text": [
            "adam"
          ]
        }
      ]
    },
    {
      "cell_type": "markdown",
      "metadata": {
        "id": "RPiLbZ49l4Lc"
      },
      "source": [
        "#While Loop - String"
      ]
    },
    {
      "cell_type": "code",
      "metadata": {
        "colab": {
          "base_uri": "https://localhost:8080/"
        },
        "id": "DYTFjP_Zl6pt",
        "outputId": "205c3f56-8763-4874-b508-a99448fa431b"
      },
      "source": [
        "y = 'Adam!'\n",
        "\n",
        "i = 0\n",
        "while (i < len(y)) :\n",
        "  print(y[i], end='')\n",
        "  i += 1"
      ],
      "execution_count": 11,
      "outputs": [
        {
          "output_type": "stream",
          "name": "stdout",
          "text": [
            "Adam!"
          ]
        }
      ]
    },
    {
      "cell_type": "markdown",
      "metadata": {
        "id": "CVfw0DqnoZg3"
      },
      "source": [
        ""
      ]
    },
    {
      "cell_type": "code",
      "metadata": {
        "colab": {
          "base_uri": "https://localhost:8080/"
        },
        "id": "oLsARZpZoavQ",
        "outputId": "80be50f7-e48c-4160-fc0d-d82b30d2f416"
      },
      "source": [
        "strNama = 'adamkurniapradana'\n",
        "\n",
        "i = 0\n",
        "while(i < len(strNama)) :\n",
        "  if i in [0,1,2]:\n",
        "      i += 1\n",
        "      continue\n",
        "  print(strNama[i], end=' ')\n",
        "  i += 1"
      ],
      "execution_count": 12,
      "outputs": [
        {
          "output_type": "stream",
          "name": "stdout",
          "text": [
            "m k u r n i a p r a d a n a "
          ]
        }
      ]
    },
    {
      "cell_type": "code",
      "metadata": {
        "colab": {
          "base_uri": "https://localhost:8080/"
        },
        "id": "57ZwMn4UqWqe",
        "outputId": "777588a3-73d8-4048-b5f9-11eb57a0a3bf"
      },
      "source": [
        "for i in range(1,6) :\n",
        "  if i == 2:\n",
        "    pass\n",
        "  else:\n",
        "    print(i)\n",
        "  print('yes')"
      ],
      "execution_count": 13,
      "outputs": [
        {
          "output_type": "stream",
          "name": "stdout",
          "text": [
            "1\n",
            "yes\n",
            "yes\n",
            "3\n",
            "yes\n",
            "4\n",
            "yes\n",
            "5\n",
            "yes\n"
          ]
        }
      ]
    },
    {
      "cell_type": "code",
      "metadata": {
        "id": "EhsUMY47ss6_"
      },
      "source": [
        ""
      ],
      "execution_count": null,
      "outputs": []
    },
    {
      "cell_type": "code",
      "metadata": {
        "colab": {
          "base_uri": "https://localhost:8080/"
        },
        "id": "Q8d3gUVQsCJq",
        "outputId": "b841555f-f410-40b3-edd7-c4746c8ff065"
      },
      "source": [
        "for i in range(1,6) :\n",
        "  if i == 2:\n",
        "    continue\n",
        "  else:\n",
        "    print(i)\n",
        "  print('yes')"
      ],
      "execution_count": 14,
      "outputs": [
        {
          "output_type": "stream",
          "name": "stdout",
          "text": [
            "1\n",
            "yes\n",
            "3\n",
            "yes\n",
            "4\n",
            "yes\n",
            "5\n",
            "yes\n"
          ]
        }
      ]
    },
    {
      "cell_type": "code",
      "metadata": {
        "colab": {
          "base_uri": "https://localhost:8080/"
        },
        "id": "ZbH7kOagstyD",
        "outputId": "17dc2920-554b-4217-f545-eabf76c943af"
      },
      "source": [
        "listAngka = ['Adam', 'Kurnia']\n",
        "\n",
        "x = 0\n",
        "while (x < len(listAngka)) :\n",
        "  print(listAngka[x], end=' ')\n",
        "\n",
        "  x += 1"
      ],
      "execution_count": 15,
      "outputs": [
        {
          "output_type": "stream",
          "name": "stdout",
          "text": [
            "Adam Kurnia "
          ]
        }
      ]
    },
    {
      "cell_type": "code",
      "metadata": {
        "colab": {
          "base_uri": "https://localhost:8080/"
        },
        "id": "QKQpwFu-tTzY",
        "outputId": "bfbd27bf-a0fd-424a-ad89-de1216ed6151"
      },
      "source": [
        "listAngka = ['Adam', 'Kurnia']\n",
        "\n",
        "for i in listAngka :\n",
        "  print(i)"
      ],
      "execution_count": null,
      "outputs": [
        {
          "output_type": "stream",
          "name": "stdout",
          "text": [
            "Adam\n",
            "Kurnia\n"
          ]
        }
      ]
    },
    {
      "cell_type": "code",
      "metadata": {
        "colab": {
          "base_uri": "https://localhost:8080/"
        },
        "id": "M8A8EkVVuRx0",
        "outputId": "a7b8b184-1739-4913-9e6d-bc9dfb2ab83d"
      },
      "source": [
        "for x in \"pradana\":\n",
        "  for y in range(6):\n",
        "    print(x, end=' ')\n",
        "  print(\" \")\n",
        "print(\"end of code\")"
      ],
      "execution_count": null,
      "outputs": [
        {
          "output_type": "stream",
          "name": "stdout",
          "text": [
            "p p p p p p  \n",
            "r r r r r r  \n",
            "a a a a a a  \n",
            "d d d d d d  \n",
            "a a a a a a  \n",
            "n n n n n n  \n",
            "a a a a a a  \n",
            "end of code\n"
          ]
        }
      ]
    },
    {
      "cell_type": "code",
      "metadata": {
        "colab": {
          "base_uri": "https://localhost:8080/"
        },
        "id": "kORJHEmCu_J_",
        "outputId": "1e0e6b4e-cf21-42a9-fbea-33eb65034614"
      },
      "source": [
        "for n in range(3):\n",
        "  for m in range(2):\n",
        "    for p in range(3):\n",
        "      print(n,m,p)"
      ],
      "execution_count": null,
      "outputs": [
        {
          "output_type": "stream",
          "name": "stdout",
          "text": [
            "0 0 0\n",
            "0 0 1\n",
            "0 0 2\n",
            "0 1 0\n",
            "0 1 1\n",
            "0 1 2\n",
            "1 0 0\n",
            "1 0 1\n",
            "1 0 2\n",
            "1 1 0\n",
            "1 1 1\n",
            "1 1 2\n",
            "2 0 0\n",
            "2 0 1\n",
            "2 0 2\n",
            "2 1 0\n",
            "2 1 1\n",
            "2 1 2\n"
          ]
        }
      ]
    },
    {
      "cell_type": "code",
      "metadata": {
        "colab": {
          "base_uri": "https://localhost:8080/"
        },
        "id": "9l1JopNOwNHv",
        "outputId": "fb8391e0-7361-4f64-ac35-658dddd67dbb"
      },
      "source": [
        "for n in range(3):\n",
        "  for m in range(2):\n",
        "    for p in range(3):\n",
        "      print(n,m,p)"
      ],
      "execution_count": 16,
      "outputs": [
        {
          "output_type": "stream",
          "name": "stdout",
          "text": [
            "0 0 0\n",
            "0 0 1\n",
            "0 0 2\n",
            "0 1 0\n",
            "0 1 1\n",
            "0 1 2\n",
            "1 0 0\n",
            "1 0 1\n",
            "1 0 2\n",
            "1 1 0\n",
            "1 1 1\n",
            "1 1 2\n",
            "2 0 0\n",
            "2 0 1\n",
            "2 0 2\n",
            "2 1 0\n",
            "2 1 1\n",
            "2 1 2\n"
          ]
        }
      ]
    },
    {
      "cell_type": "code",
      "metadata": {
        "colab": {
          "base_uri": "https://localhost:8080/"
        },
        "id": "HQpTSocXwscz",
        "outputId": "a96be3e3-2874-4163-f85c-a3039d6b12af"
      },
      "source": [
        "n = int(input(\"Angka: \"))\n",
        "\n",
        "listN = []\n",
        "i = 0\n",
        "while (i < n):\n",
        "  listN.append(pow(i,2))\n",
        "  i += 1\n",
        "\n",
        "print(listN)"
      ],
      "execution_count": null,
      "outputs": [
        {
          "output_type": "stream",
          "name": "stdout",
          "text": [
            "Angka: 4\n",
            "[0, 1, 4, 9]\n"
          ]
        }
      ]
    },
    {
      "cell_type": "code",
      "metadata": {
        "colab": {
          "base_uri": "https://localhost:8080/",
          "height": 131
        },
        "id": "GuKz_9B8zU7L",
        "outputId": "d8580ed1-aa1b-49c6-c07b-0fb8e86161a7"
      },
      "source": [
        "n = int(input(\"Angka: \"))\n",
        "i = 0\n",
        "for (i < n):\n",
        "  if i % 3 == 0 & i % 5 == 0 :\n",
        "    print (\"FizzBuzz\")\n",
        "  elif i % 3 == 0 :\n",
        "    print (\"Fizz\")\n",
        "  elif i % 5 == 0 :\n",
        "    print(\"Buzz\")\n",
        "  else :\n",
        "    print(i)\n",
        "i += 1\n",
        "        "
      ],
      "execution_count": null,
      "outputs": [
        {
          "output_type": "error",
          "ename": "SyntaxError",
          "evalue": "ignored",
          "traceback": [
            "\u001b[0;36m  File \u001b[0;32m\"<ipython-input-121-0c0c83a50d34>\"\u001b[0;36m, line \u001b[0;32m3\u001b[0m\n\u001b[0;31m    for (i < n):\u001b[0m\n\u001b[0m               ^\u001b[0m\n\u001b[0;31mSyntaxError\u001b[0m\u001b[0;31m:\u001b[0m invalid syntax\n"
          ]
        }
      ]
    },
    {
      "cell_type": "code",
      "metadata": {
        "id": "TznzI0I19SYV"
      },
      "source": [
        "t"
      ],
      "execution_count": null,
      "outputs": []
    },
    {
      "cell_type": "code",
      "metadata": {
        "colab": {
          "base_uri": "https://localhost:8080/"
        },
        "id": "oY4c6puV3W4n",
        "outputId": "502fea36-9194-4943-dfd6-77a3e4f43bfc"
      },
      "source": [
        "for i in range(1,50) :\n",
        "  if i % 3 == 0 and i % 5 == 0:\n",
        "    print(\"FizzBuzz\")\n",
        "  elif (i % 3 == 0) :\n",
        "    print(\"Fizz\")\n",
        "  elif (i % 5 == 0) :\n",
        "    print(\"Buzz\")\n",
        "  else :\n",
        "    print(i)"
      ],
      "execution_count": null,
      "outputs": [
        {
          "output_type": "stream",
          "name": "stdout",
          "text": [
            "1\n",
            "2\n",
            "Fizz\n",
            "4\n",
            "Buzz\n",
            "Fizz\n",
            "7\n",
            "8\n",
            "Fizz\n",
            "Buzz\n",
            "11\n",
            "Fizz\n",
            "13\n",
            "14\n",
            "FizzBuzz\n",
            "16\n",
            "17\n",
            "Fizz\n",
            "19\n",
            "Buzz\n",
            "Fizz\n",
            "22\n",
            "23\n",
            "Fizz\n",
            "Buzz\n",
            "26\n",
            "Fizz\n",
            "28\n",
            "29\n",
            "FizzBuzz\n",
            "31\n",
            "32\n",
            "Fizz\n",
            "34\n",
            "Buzz\n",
            "Fizz\n",
            "37\n",
            "38\n",
            "Fizz\n",
            "Buzz\n",
            "41\n",
            "Fizz\n",
            "43\n",
            "44\n",
            "FizzBuzz\n",
            "46\n",
            "47\n",
            "Fizz\n",
            "49\n"
          ]
        }
      ]
    },
    {
      "cell_type": "code",
      "metadata": {
        "colab": {
          "base_uri": "https://localhost:8080/"
        },
        "id": "5lesBw5U4Re8",
        "outputId": "8be51388-9339-41b9-9475-a59f28b267ce"
      },
      "source": [
        "x = str(input(\"Masukkan terserah: \"))\n",
        "reverse = (x[::-1])\n",
        "\n",
        "if x == reverse :\n",
        "  print(\"betul palyndrome\")\n",
        "else :\n",
        "  print(\"bukan palyndrome\")"
      ],
      "execution_count": null,
      "outputs": [
        {
          "output_type": "stream",
          "name": "stdout",
          "text": [
            "Masukkan terserah: uteke\n",
            "bukan palyndrome\n"
          ]
        }
      ]
    },
    {
      "cell_type": "code",
      "metadata": {
        "id": "EMTxxMKt6Vlg"
      },
      "source": [
        ""
      ],
      "execution_count": null,
      "outputs": []
    },
    {
      "cell_type": "code",
      "metadata": {
        "colab": {
          "base_uri": "https://localhost:8080/"
        },
        "id": "_NCByel01ROq",
        "outputId": "0262c645-57f7-4bdd-d9b7-1afe1b62778a"
      },
      "source": [
        "class Solution(object):\n",
        "   def fizzBuzz(self, n):\n",
        "      result = []\n",
        "      for i in range(1,n+1):\n",
        "         if i% 3== 0 and i%5==0:\n",
        "            result.append(\"FizzBuzz\")\n",
        "         elif i %3==0:\n",
        "            result.append(\"Fizz\")\n",
        "         elif i% 5 == 0:\n",
        "            result.append(\"Buzz\")\n",
        "         else:\n",
        "            result.append(str(i))\n",
        "      return result\n",
        "ob1 = Solution()\n",
        "print(ob1.fizzBuzz(30))"
      ],
      "execution_count": null,
      "outputs": [
        {
          "output_type": "stream",
          "name": "stdout",
          "text": [
            "['1', '2', 'Fizz', '4', 'Buzz', 'Fizz', '7', '8', 'Fizz', 'Buzz', '11', 'Fizz', '13', '14', 'FizzBuzz', '16', '17', 'Fizz', '19', 'Buzz', 'Fizz', '22', '23', 'Fizz', 'Buzz', '26', 'Fizz', '28', '29', 'FizzBuzz']\n"
          ]
        }
      ]
    }
  ]
}