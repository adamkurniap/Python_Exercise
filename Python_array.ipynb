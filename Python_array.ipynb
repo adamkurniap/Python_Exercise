{
  "nbformat": 4,
  "nbformat_minor": 0,
  "metadata": {
    "colab": {
      "name": "Untitled8.ipynb",
      "provenance": []
    },
    "kernelspec": {
      "name": "python3",
      "display_name": "Python 3"
    },
    "language_info": {
      "name": "python"
    }
  },
  "cells": [
    {
      "cell_type": "code",
      "metadata": {
        "id": "egMcn_GWDAWz"
      },
      "source": [
        "import numpy as np"
      ],
      "execution_count": null,
      "outputs": []
    },
    {
      "cell_type": "code",
      "metadata": {
        "colab": {
          "base_uri": "https://localhost:8080/"
        },
        "id": "O98KJHp2DF77",
        "outputId": "3e8010b8-9313-4677-ebb8-986852038bb7"
      },
      "source": [
        "a = np.array([[1,2,3],[4,5,6]])\n",
        "print(a)"
      ],
      "execution_count": null,
      "outputs": [
        {
          "output_type": "stream",
          "name": "stdout",
          "text": [
            "[[1 2 3]\n",
            " [4 5 6]]\n"
          ]
        }
      ]
    },
    {
      "cell_type": "code",
      "metadata": {
        "colab": {
          "base_uri": "https://localhost:8080/"
        },
        "id": "mCR5fRrMEloQ",
        "outputId": "6f6bba9f-e119-4625-e0d9-8bdd2da7cc2b"
      },
      "source": [
        "b = np.shape(a)\n",
        "print(b)"
      ],
      "execution_count": null,
      "outputs": [
        {
          "output_type": "stream",
          "name": "stdout",
          "text": [
            "(2, 3)\n"
          ]
        }
      ]
    },
    {
      "cell_type": "code",
      "metadata": {
        "colab": {
          "base_uri": "https://localhost:8080/"
        },
        "id": "H8dYQc8RFAga",
        "outputId": "ce5d0232-75b3-4d69-a3b6-e9f1f4ee38bb"
      },
      "source": [
        "#untuk mengambil elemen spesifik\n",
        "print(a[0,1])"
      ],
      "execution_count": null,
      "outputs": [
        {
          "output_type": "stream",
          "name": "stdout",
          "text": [
            "2\n"
          ]
        }
      ]
    },
    {
      "cell_type": "code",
      "metadata": {
        "colab": {
          "base_uri": "https://localhost:8080/"
        },
        "id": "KXXP29oaFjic",
        "outputId": "6f3e4859-bd29-4a49-9ceb-58369e8d9a3c"
      },
      "source": [
        "#untuk mengambil row(r,:)\n",
        "print(a[1,:3])"
      ],
      "execution_count": null,
      "outputs": [
        {
          "output_type": "stream",
          "name": "stdout",
          "text": [
            "[4 5 6]\n"
          ]
        }
      ]
    },
    {
      "cell_type": "code",
      "metadata": {
        "colab": {
          "base_uri": "https://localhost:8080/"
        },
        "id": "kH4lb7bqGE2T",
        "outputId": "17305b1d-f8d7-48db-f727-b1371aa36865"
      },
      "source": [
        "#untuk mengambil kolom(:, c)\n",
        "print(a[:1,0])"
      ],
      "execution_count": null,
      "outputs": [
        {
          "output_type": "stream",
          "name": "stdout",
          "text": [
            "[1]\n"
          ]
        }
      ]
    },
    {
      "cell_type": "code",
      "metadata": {
        "colab": {
          "base_uri": "https://localhost:8080/"
        },
        "id": "f6cux23vRI2d",
        "outputId": "332ab516-a47d-4ea8-d594-7a934d3bd7b3"
      },
      "source": [
        "a[1,1] = 10\n",
        "print(a)\n"
      ],
      "execution_count": null,
      "outputs": [
        {
          "output_type": "stream",
          "name": "stdout",
          "text": [
            "[[ 1  2  3]\n",
            " [ 4 10  6]]\n"
          ]
        }
      ]
    },
    {
      "cell_type": "code",
      "metadata": {
        "colab": {
          "base_uri": "https://localhost:8080/"
        },
        "id": "NGccyO0ORQ9W",
        "outputId": "f4949c1e-56c8-419b-d9f3-293998345982"
      },
      "source": [
        "#3d array\n",
        "arr3d = np.array(np.array([[[1,2],[3,4]],[[5,6],[7,8]],[[9,10],[11,12]]]))\n",
        "print(arr3d) \n",
        "print('\\n')\n",
        "print(arr3d[0,1,0])\n",
        "print(np.shape(arr3d))"
      ],
      "execution_count": null,
      "outputs": [
        {
          "output_type": "stream",
          "name": "stdout",
          "text": [
            "[[[ 1  2]\n",
            "  [ 3  4]]\n",
            "\n",
            " [[ 5  6]\n",
            "  [ 7  8]]\n",
            "\n",
            " [[ 9 10]\n",
            "  [11 12]]]\n",
            "\n",
            "\n",
            "3\n",
            "(3, 2, 2)\n"
          ]
        }
      ]
    },
    {
      "cell_type": "code",
      "metadata": {
        "colab": {
          "base_uri": "https://localhost:8080/"
        },
        "id": "E5cMIqRrF40X",
        "outputId": "c0382e3d-7620-4e76-b460-245e8df16bb8"
      },
      "source": [
        "print(np.arange(8))\n",
        "print('\\n')\n",
        "print(np.arange(3,8))\n",
        "print('\\n')\n",
        "print(np.arange(0,9,2))\n",
        "print('\\n')"
      ],
      "execution_count": null,
      "outputs": [
        {
          "output_type": "stream",
          "name": "stdout",
          "text": [
            "[0 1 2 3 4 5 6 7]\n",
            "\n",
            "\n",
            "[3 4 5 6 7]\n",
            "\n",
            "\n",
            "[0 2 4 6 8]\n",
            "\n",
            "\n"
          ]
        }
      ]
    },
    {
      "cell_type": "code",
      "metadata": {
        "colab": {
          "base_uri": "https://localhost:8080/"
        },
        "id": "xcAVcPNyGU2S",
        "outputId": "3ff4c0c0-6b63-46ae-932d-e895f506411f"
      },
      "source": [
        "print(np.zeros(5))\n",
        "print('\\n')\n",
        "print(np.zeros((5,5)))\n",
        "print('\\n')"
      ],
      "execution_count": null,
      "outputs": [
        {
          "output_type": "stream",
          "name": "stdout",
          "text": [
            "[0. 0. 0. 0. 0.]\n",
            "\n",
            "\n",
            "[[0. 0. 0. 0. 0.]\n",
            " [0. 0. 0. 0. 0.]\n",
            " [0. 0. 0. 0. 0.]\n",
            " [0. 0. 0. 0. 0.]\n",
            " [0. 0. 0. 0. 0.]]\n",
            "\n",
            "\n"
          ]
        }
      ]
    },
    {
      "cell_type": "code",
      "metadata": {
        "id": "1S_VGX6nSclD"
      },
      "source": [
        "#ambil elemen 3d array (r,c,h)\n"
      ],
      "execution_count": null,
      "outputs": []
    },
    {
      "cell_type": "code",
      "metadata": {
        "colab": {
          "base_uri": "https://localhost:8080/"
        },
        "id": "5cWr6smiHTo7",
        "outputId": "adf40ff0-02f1-4eb1-b6c8-0b748cd057e8"
      },
      "source": [
        "print(np.ones(5))\n",
        "print('\\n')\n",
        "print(np.ones((3,5)))\n",
        "print('\\n')"
      ],
      "execution_count": null,
      "outputs": [
        {
          "output_type": "stream",
          "name": "stdout",
          "text": [
            "[1. 1. 1. 1. 1.]\n",
            "\n",
            "\n",
            "[[1. 1. 1. 1. 1.]\n",
            " [1. 1. 1. 1. 1.]\n",
            " [1. 1. 1. 1. 1.]]\n",
            "\n",
            "\n"
          ]
        }
      ]
    },
    {
      "cell_type": "code",
      "metadata": {
        "colab": {
          "base_uri": "https://localhost:8080/"
        },
        "id": "8F0VZlK0IgWN",
        "outputId": "96029251-9867-4df9-dd9e-d40c9d7cbbf4"
      },
      "source": [
        "a = np.array([1,2,3,4,5,6,7,8,9,10,11,12,13,14,15,16])\n",
        "print('Array: ')\n",
        "print(a)\n",
        "print('\\n')\n",
        "\n",
        "b = np.reshape(a,(4,4))\n",
        "\n",
        "print('Array yang dimodify: ')\n",
        "print(b)"
      ],
      "execution_count": null,
      "outputs": [
        {
          "output_type": "stream",
          "name": "stdout",
          "text": [
            "Array: \n",
            "[ 1  2  3  4  5  6  7  8  9 10 11 12 13 14 15 16]\n",
            "\n",
            "\n",
            "Array yang dimodify: \n",
            "[[ 1  2  3  4]\n",
            " [ 5  6  7  8]\n",
            " [ 9 10 11 12]\n",
            " [13 14 15 16]]\n"
          ]
        }
      ]
    },
    {
      "cell_type": "code",
      "metadata": {
        "colab": {
          "base_uri": "https://localhost:8080/"
        },
        "id": "moD-dLhDMe9z",
        "outputId": "7d89aa05-fae5-4009-e369-95f2f97c27dc"
      },
      "source": [
        "TransMat = np.array(b).transpose()\n",
        "print(TransMat)"
      ],
      "execution_count": null,
      "outputs": [
        {
          "output_type": "stream",
          "name": "stdout",
          "text": [
            "[[ 1  5  9 13]\n",
            " [ 2  6 10 14]\n",
            " [ 3  7 11 15]\n",
            " [ 4  8 12 16]]\n"
          ]
        }
      ]
    },
    {
      "cell_type": "code",
      "metadata": {
        "id": "BGFhAJsgMePY"
      },
      "source": [
        ""
      ],
      "execution_count": null,
      "outputs": []
    }
  ]
}