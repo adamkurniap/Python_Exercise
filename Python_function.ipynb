{
  "nbformat": 4,
  "nbformat_minor": 0,
  "metadata": {
    "colab": {
      "name": "Session 13.ipynb",
      "provenance": [],
      "collapsed_sections": []
    },
    "kernelspec": {
      "name": "python3",
      "display_name": "Python 3"
    },
    "language_info": {
      "name": "python"
    }
  },
  "cells": [
    {
      "cell_type": "code",
      "metadata": {
        "colab": {
          "base_uri": "https://localhost:8080/"
        },
        "id": "bl4GvuVQRHYd",
        "outputId": "0aebf7ca-1d6a-45bf-97be-ab587777c256"
      },
      "source": [
        "num = int(input(\"Bilangan: \"))\n",
        "\n",
        "if num % 2 != 0:\n",
        "  print(\"Ganjil\")\n",
        "else:\n",
        "  print(\"Genap\")"
      ],
      "execution_count": 1,
      "outputs": [
        {
          "output_type": "stream",
          "name": "stdout",
          "text": [
            "Bilangan: 8\n",
            "Genap\n"
          ]
        }
      ]
    },
    {
      "cell_type": "code",
      "metadata": {
        "id": "eRxON3f7ReUx"
      },
      "source": [
        "def checkNum(num) :\n",
        "  if num % 2 != 0:\n",
        "    print(\"Ganjil\")\n",
        "  else:\n",
        "    print(\"Genap\")"
      ],
      "execution_count": 2,
      "outputs": []
    },
    {
      "cell_type": "code",
      "metadata": {
        "colab": {
          "base_uri": "https://localhost:8080/"
        },
        "id": "LMqD6oTsR0rn",
        "outputId": "5f1ddc81-cf86-4d96-9216-3b76ccb9d3bb"
      },
      "source": [
        "checkNum(5)"
      ],
      "execution_count": 3,
      "outputs": [
        {
          "output_type": "stream",
          "name": "stdout",
          "text": [
            "Ganjil\n"
          ]
        }
      ]
    },
    {
      "cell_type": "code",
      "metadata": {
        "id": "Ny5Hx-CnSIwi"
      },
      "source": [
        "def checkAngka(angka1, angka2):\n",
        "  if angka1 > angka2:\n",
        "    print(\"angka1 lebih besar\")\n",
        "  else:\n",
        "    print(\"angka2 lebih besar\")"
      ],
      "execution_count": 4,
      "outputs": []
    },
    {
      "cell_type": "code",
      "metadata": {
        "colab": {
          "base_uri": "https://localhost:8080/"
        },
        "id": "lcXzAD1-SYvE",
        "outputId": "46b5964b-5db6-4ea9-baa3-706f0c3c0b93"
      },
      "source": [
        "checkAngka(2,1)"
      ],
      "execution_count": 5,
      "outputs": [
        {
          "output_type": "stream",
          "name": "stdout",
          "text": [
            "angka1 lebih besar\n"
          ]
        }
      ]
    },
    {
      "cell_type": "markdown",
      "metadata": {
        "id": "DQZL7aj1Tccy"
      },
      "source": [
        "#Function II"
      ]
    },
    {
      "cell_type": "code",
      "metadata": {
        "id": "tkHbCFpHTf3R"
      },
      "source": [
        "def addNum(num1, num2):\n",
        "  resNum = num1 + num2\n",
        "  print(f\"{resNum}\")"
      ],
      "execution_count": null,
      "outputs": []
    },
    {
      "cell_type": "code",
      "metadata": {
        "colab": {
          "base_uri": "https://localhost:8080/"
        },
        "id": "ZZNEgsLuTw-9",
        "outputId": "27dbb2c0-58ee-4972-a4c1-dfcac6450ba0"
      },
      "source": [
        "resFunction = addNum(9,10)"
      ],
      "execution_count": null,
      "outputs": [
        {
          "output_type": "stream",
          "name": "stdout",
          "text": [
            "19\n"
          ]
        }
      ]
    },
    {
      "cell_type": "markdown",
      "metadata": {
        "id": "blsZ42QaUah5"
      },
      "source": [
        "#Latihan"
      ]
    },
    {
      "cell_type": "code",
      "metadata": {
        "id": "_uhNTu9cUcIz"
      },
      "source": [
        "def numMax(num1, num2, num3):\n",
        "  num = num1\n",
        "  if num > num2:\n",
        "    if num > num3:\n",
        "      return num\n",
        "  else:\n",
        "    num = num2\n",
        "    if num > num3:\n",
        "      return num\n",
        "    else:\n",
        "      return num3\n"
      ],
      "execution_count": null,
      "outputs": []
    },
    {
      "cell_type": "markdown",
      "metadata": {
        "id": "fFXK-XETX61v"
      },
      "source": [
        "#function III"
      ]
    },
    {
      "cell_type": "code",
      "metadata": {
        "id": "RS92vrHTX9m0"
      },
      "source": [
        "def funcAngka(*angka):\n",
        "  print(angka)"
      ],
      "execution_count": null,
      "outputs": []
    },
    {
      "cell_type": "code",
      "metadata": {
        "colab": {
          "base_uri": "https://localhost:8080/"
        },
        "id": "ekBBALx-YDto",
        "outputId": "e3ccc840-8c75-4c05-a14d-731495a5c3fb"
      },
      "source": [
        "tupleAngka = funcAngka(1,2,3,4)"
      ],
      "execution_count": null,
      "outputs": [
        {
          "output_type": "stream",
          "name": "stdout",
          "text": [
            "(1, 2, 3, 4)\n"
          ]
        }
      ]
    },
    {
      "cell_type": "code",
      "metadata": {
        "id": "houvFfn8YzyR"
      },
      "source": [
        "def funcCheck(*num):\n",
        "  print(sum(num))\n"
      ],
      "execution_count": null,
      "outputs": []
    },
    {
      "cell_type": "code",
      "metadata": {
        "colab": {
          "base_uri": "https://localhost:8080/"
        },
        "id": "FGnG2LASaOQC",
        "outputId": "7c94cd0f-a3be-49be-d8c4-c3f21ea7d2b0"
      },
      "source": [
        "funcCheck(1,3,4,5)"
      ],
      "execution_count": null,
      "outputs": [
        {
          "output_type": "stream",
          "name": "stdout",
          "text": [
            "13\n"
          ]
        }
      ]
    },
    {
      "cell_type": "code",
      "metadata": {
        "id": "pUoluJ5SZOBl"
      },
      "source": [
        "def sumNum(*num):\n",
        "  print(sum(num))"
      ],
      "execution_count": null,
      "outputs": []
    },
    {
      "cell_type": "code",
      "metadata": {
        "colab": {
          "base_uri": "https://localhost:8080/"
        },
        "id": "imyOeiZJZ0cu",
        "outputId": "41e136c3-7fbc-49ad-93f3-a5e663d5f7ca"
      },
      "source": [
        "sumNum (1,3,4,5)"
      ],
      "execution_count": null,
      "outputs": [
        {
          "output_type": "stream",
          "name": "stdout",
          "text": [
            "13\n"
          ]
        }
      ]
    },
    {
      "cell_type": "markdown",
      "metadata": {
        "id": "s10Z38tfaltF"
      },
      "source": [
        "#Function IV"
      ]
    },
    {
      "cell_type": "code",
      "metadata": {
        "id": "Km3skV8ca0qH"
      },
      "source": [
        "def checkNum(num, listNum):\n",
        "  if num in listNum:\n",
        "    print(True)\n",
        "  else:\n",
        "    print(False)"
      ],
      "execution_count": null,
      "outputs": []
    },
    {
      "cell_type": "code",
      "metadata": {
        "colab": {
          "base_uri": "https://localhost:8080/"
        },
        "id": "PXpdeLKzandE",
        "outputId": "c66281bc-2095-464e-faf4-2c292972fec2"
      },
      "source": [
        "checkNum(12,[1,2,3,4,5])"
      ],
      "execution_count": null,
      "outputs": [
        {
          "output_type": "stream",
          "name": "stdout",
          "text": [
            "False\n"
          ]
        }
      ]
    },
    {
      "cell_type": "code",
      "metadata": {
        "id": "T02KX61HbM3c"
      },
      "source": [
        "def checkNum(**var):\n",
        "  print(var)"
      ],
      "execution_count": null,
      "outputs": []
    },
    {
      "cell_type": "code",
      "metadata": {
        "colab": {
          "base_uri": "https://localhost:8080/"
        },
        "id": "OdGDIBdNbS1c",
        "outputId": "224cde47-5c03-4100-fc01-ade47144c455"
      },
      "source": [
        "checkNum(nama=\"Adam\", umur=28)"
      ],
      "execution_count": null,
      "outputs": [
        {
          "output_type": "stream",
          "name": "stdout",
          "text": [
            "{'nama': 'Adam', 'umur': 28}\n"
          ]
        }
      ]
    },
    {
      "cell_type": "markdown",
      "metadata": {
        "id": "7bChkkmzc2Ji"
      },
      "source": [
        "Lambda Function"
      ]
    },
    {
      "cell_type": "code",
      "metadata": {
        "id": "lJgVv28lc-JB"
      },
      "source": [
        "funcFor = lambda a,b: \"a\" if a > b else \"b\""
      ],
      "execution_count": null,
      "outputs": []
    },
    {
      "cell_type": "code",
      "metadata": {
        "id": "-GmVF-Yrfz-O"
      },
      "source": [
        "lambdaFor = lambda listX: [i+3 for i in listX]"
      ],
      "execution_count": null,
      "outputs": []
    },
    {
      "cell_type": "code",
      "metadata": {
        "colab": {
          "base_uri": "https://localhost:8080/"
        },
        "id": "Poc00VLlf6cZ",
        "outputId": "15b0d6d3-8445-4968-dc6e-15a4478bf986"
      },
      "source": [
        "lambdaFor([1,3,4])"
      ],
      "execution_count": null,
      "outputs": [
        {
          "output_type": "execute_result",
          "data": {
            "text/plain": [
              "[4, 6, 7]"
            ]
          },
          "metadata": {},
          "execution_count": 66
        }
      ]
    },
    {
      "cell_type": "code",
      "metadata": {
        "colab": {
          "base_uri": "https://localhost:8080/"
        },
        "id": "qR4q20b7dWKU",
        "outputId": "8120b4fd-3548-4b2d-cde0-9433b7a609c8"
      },
      "source": [
        "lambdaAdd(5,4,2)"
      ],
      "execution_count": null,
      "outputs": [
        {
          "output_type": "execute_result",
          "data": {
            "text/plain": [
              "11"
            ]
          },
          "metadata": {},
          "execution_count": 57
        }
      ]
    },
    {
      "cell_type": "markdown",
      "metadata": {
        "id": "aueWd9cTiyyV"
      },
      "source": [
        "#Function V"
      ]
    },
    {
      "cell_type": "code",
      "metadata": {
        "id": "n9TYDcFNjBB6"
      },
      "source": [
        "def sumNum(a,b):\n",
        "  global res\n",
        "  res = a + b\n",
        "  print(res)"
      ],
      "execution_count": null,
      "outputs": []
    },
    {
      "cell_type": "code",
      "metadata": {
        "colab": {
          "base_uri": "https://localhost:8080/"
        },
        "id": "ywvvibLzjO02",
        "outputId": "536ee521-ded7-481e-d351-f8ac1e4689d7"
      },
      "source": [
        "sumNum(4,4)"
      ],
      "execution_count": null,
      "outputs": [
        {
          "output_type": "stream",
          "name": "stdout",
          "text": [
            "8\n"
          ]
        }
      ]
    },
    {
      "cell_type": "code",
      "metadata": {
        "colab": {
          "base_uri": "https://localhost:8080/"
        },
        "id": "Kot4Qu2ajRPK",
        "outputId": "39704854-56b0-4166-8d95-4a7a0852824a"
      },
      "source": [
        "res"
      ],
      "execution_count": null,
      "outputs": [
        {
          "output_type": "execute_result",
          "data": {
            "text/plain": [
              "8"
            ]
          },
          "metadata": {},
          "execution_count": 71
        }
      ]
    },
    {
      "cell_type": "markdown",
      "metadata": {
        "id": "Qx2lPshWqii3"
      },
      "source": [
        "#Object and Class"
      ]
    },
    {
      "cell_type": "code",
      "metadata": {
        "id": "AhWUOoOVqlNE"
      },
      "source": [
        "class Human:\n",
        "  def __init__ (self, nama, umur, jk):\n",
        "    self.nama = nama\n",
        "    self.umur = umur\n",
        "    self.jenis_kelamin = jk     \n",
        "  \n",
        "  def perkenalan(self):\n",
        "    print(f\"Hai nama saya {self.nama}\")\n",
        "  \n",
        "  def menyapa(self, var):\n",
        "    print(f\"Hallo {var}, saya {self.nama}\")"
      ],
      "execution_count": 7,
      "outputs": []
    },
    {
      "cell_type": "code",
      "metadata": {
        "id": "xhLaufPGqkqH"
      },
      "source": [
        "person1 = Human(\"adam\", 24, \"pria\")\n",
        "person2 = Human(\"aji\", 24, \"pria\")"
      ],
      "execution_count": 8,
      "outputs": []
    },
    {
      "cell_type": "code",
      "metadata": {
        "colab": {
          "base_uri": "https://localhost:8080/"
        },
        "id": "worYQUBergpR",
        "outputId": "7decd845-a43e-4eae-ec18-9aa02696907a"
      },
      "source": [
        "person1.perkenalan()"
      ],
      "execution_count": 10,
      "outputs": [
        {
          "output_type": "stream",
          "name": "stdout",
          "text": [
            "Hai nama saya adam\n"
          ]
        }
      ]
    }
  ]
}