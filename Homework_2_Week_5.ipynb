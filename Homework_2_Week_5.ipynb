{
  "nbformat": 4,
  "nbformat_minor": 0,
  "metadata": {
    "colab": {
      "name": "Homework 2 Session 14.ipynb",
      "provenance": []
    },
    "kernelspec": {
      "name": "python3",
      "display_name": "Python 3"
    },
    "language_info": {
      "name": "python"
    }
  },
  "cells": [
    {
      "cell_type": "code",
      "metadata": {
        "id": "yhbA_CvKF2Dr"
      },
      "source": [
        "import numpy as np"
      ],
      "execution_count": null,
      "outputs": []
    },
    {
      "cell_type": "code",
      "metadata": {
        "colab": {
          "base_uri": "https://localhost:8080/"
        },
        "id": "Roy0mr5BGNeh",
        "outputId": "4813f1b1-8ce9-4876-c8b8-dbb6410b5beb"
      },
      "source": [
        "a = np.array([10,10,20,20,30,30,40,10,15,15,12,20,30])\n",
        "print(\"Array Awal : \",(a))"
      ],
      "execution_count": null,
      "outputs": [
        {
          "output_type": "stream",
          "name": "stdout",
          "text": [
            "Array Awal :  [10 10 20 20 30 30 40 10 15 15 12 20 30]\n"
          ]
        }
      ]
    },
    {
      "cell_type": "markdown",
      "metadata": {
        "id": "hwucN7U0Go19"
      },
      "source": [
        "#a) Tulislah command untuk menemukan elemen unik pada array diatas!"
      ]
    },
    {
      "cell_type": "code",
      "metadata": {
        "colab": {
          "base_uri": "https://localhost:8080/"
        },
        "id": "sVsEnoFLG-G6",
        "outputId": "320ea45a-7665-4223-e3d6-610dc42555ac"
      },
      "source": [
        "unique = np.unique(a)\n",
        "print(\"Elemen yang unik : \", unique)"
      ],
      "execution_count": null,
      "outputs": [
        {
          "output_type": "stream",
          "name": "stdout",
          "text": [
            "Elemen yang unik :  [10 12 15 20 30 40]\n"
          ]
        }
      ]
    },
    {
      "cell_type": "markdown",
      "metadata": {
        "id": "zw6h806VK9_C"
      },
      "source": [
        "#b) Tulislah command untuk menemukan indeks dari elemen unik pada array diatas!"
      ]
    },
    {
      "cell_type": "code",
      "metadata": {
        "colab": {
          "base_uri": "https://localhost:8080/"
        },
        "id": "KGnex0PsLH9K",
        "outputId": "1bc283b7-bc9f-43c3-fa00-043bb9fa34d1"
      },
      "source": [
        "uniqueIndex = np.unique(a, return_index=True)\n",
        "uniqueIndices,indices = np.unique(a, return_inverse=True)\n",
        "print(indices)"
      ],
      "execution_count": null,
      "outputs": [
        {
          "output_type": "stream",
          "name": "stdout",
          "text": [
            "Indeks dari elemen unik :  (array([10, 12, 15, 20, 30, 40]), array([ 0, 10,  8,  2,  4,  6]))\n",
            "\n",
            "\n",
            "[0 0 3 3 4 4 5 0 2 2 1 3 4]\n"
          ]
        }
      ]
    },
    {
      "cell_type": "markdown",
      "metadata": {
        "id": "VNCCBN1nNPh5"
      },
      "source": [
        "#c) Tulislah command untuk membagi elemen unik tersebut menjadi beberapa subarray yang masing-masing memiliki jumlah array yang sama!"
      ]
    },
    {
      "cell_type": "code",
      "metadata": {
        "colab": {
          "base_uri": "https://localhost:8080/"
        },
        "id": "CXFAWsOBPF3O",
        "outputId": "634f2b3e-2efb-4abf-b8a9-a3e7fa7e6828"
      },
      "source": [
        "uniqueHalf = np.split(unique, 2)\n",
        "print(\"Pembagian sub array : \", uniqueHalf)"
      ],
      "execution_count": null,
      "outputs": [
        {
          "output_type": "stream",
          "name": "stdout",
          "text": [
            "Pembagian sub array :  [array([10, 12, 15]), array([20, 30, 40])]\n"
          ]
        }
      ]
    },
    {
      "cell_type": "markdown",
      "metadata": {
        "id": "QiqqWb8pP4W-"
      },
      "source": [
        "#Jawaban"
      ]
    },
    {
      "cell_type": "code",
      "metadata": {
        "colab": {
          "base_uri": "https://localhost:8080/"
        },
        "id": "znjV7QT3P8j7",
        "outputId": "bd22bfc8-d49e-41ee-9fab-48096319ca7e"
      },
      "source": [
        "a = np.array([10,10,20,20,30,30,40,10,15,15,12,20,30])\n",
        "print(\"Array Awal : \",(a))\n",
        "print('\\n')\n",
        "\n",
        "unique = np.unique(a)\n",
        "print(\"Elemen yang unik : \", unique)\n",
        "print('\\n')\n",
        "\n",
        "uniqueIndex = np.unique(a, return_index=True)\n",
        "uniqueIndices,indices = np.unique(a, return_inverse=True)\n",
        "print(\"Index dari elemen yang unik : \", indices)\n",
        "print('\\n')\n",
        "\n",
        "uniqueHalf = np.split(unique, 2)\n",
        "print(\"Pembagian sub array : \", uniqueHalf)"
      ],
      "execution_count": null,
      "outputs": [
        {
          "output_type": "stream",
          "name": "stdout",
          "text": [
            "Array Awal :  [10 10 20 20 30 30 40 10 15 15 12 20 30]\n",
            "\n",
            "\n",
            "Elemen yang unik :  [10 12 15 20 30 40]\n",
            "\n",
            "\n",
            "Index dari elemen yang unik :  [0 0 3 3 4 4 5 0 2 2 1 3 4]\n",
            "\n",
            "\n",
            "Pembagian sub array :  [array([10, 12, 15]), array([20, 30, 40])]\n"
          ]
        }
      ]
    }
  ]
}