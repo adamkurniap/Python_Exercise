{
  "nbformat": 4,
  "nbformat_minor": 0,
  "metadata": {
    "colab": {
      "name": "Quiz 1 Week 5",
      "provenance": []
    },
    "kernelspec": {
      "name": "python3",
      "display_name": "Python 3"
    },
    "language_info": {
      "name": "python"
    }
  },
  "cells": [
    {
      "cell_type": "code",
      "metadata": {
        "colab": {
          "base_uri": "https://localhost:8080/"
        },
        "id": "nM3R70KrDK4Z",
        "outputId": "82af719a-ddb5-4255-cad2-cd4a7ee209ad"
      },
      "source": [
        "def combineString(string1, string2):\n",
        "  result = string1 + \"-\" + string2\n",
        "  print(result)\n",
        "\n",
        "combineString(\"Adam\", \"Kurnia\")"
      ],
      "execution_count": null,
      "outputs": [
        {
          "output_type": "stream",
          "name": "stdout",
          "text": [
            "Adam-Kurnia\n"
          ]
        }
      ]
    },
    {
      "cell_type": "code",
      "metadata": {
        "colab": {
          "base_uri": "https://localhost:8080/"
        },
        "id": "tiSrZ8iQF3Qx",
        "outputId": "c8de3846-c7fd-4b1c-96da-dc52f89cbc5d"
      },
      "source": [
        "def encodeData(*args):\n",
        "  if \"Fathul\" in args:\n",
        "    if \"adam\" in args:\n",
        "      print(\"Rahmat in\")\n",
        "    else:\n",
        "      print(\"Rahmat not in\")\n",
        "\n",
        "encodeData('Fathul','Hidayat','Rahmat','Hidayat')"
      ],
      "execution_count": null,
      "outputs": [
        {
          "output_type": "stream",
          "name": "stdout",
          "text": [
            "Rahmat not in\n"
          ]
        }
      ]
    },
    {
      "cell_type": "code",
      "metadata": {
        "colab": {
          "base_uri": "https://localhost:8080/"
        },
        "id": "CrnJGDRoGay7",
        "outputId": "b94dc37f-63e1-418f-8490-33e3dbd53c65"
      },
      "source": [
        "def processModulo(argsList):\n",
        "  if type(argsList) == list:\n",
        "    outputList = []\n",
        "    for arg in argsList:\n",
        "      outputList.append(arg%3)\n",
        "    else:\n",
        "      print(\"please check your arguments\")\n",
        "    \n",
        "    return outputList\n",
        "\n",
        "processModulo([1,2,3,4,5])"
      ],
      "execution_count": null,
      "outputs": [
        {
          "output_type": "stream",
          "name": "stdout",
          "text": [
            "please check your arguments\n"
          ]
        },
        {
          "output_type": "execute_result",
          "data": {
            "text/plain": [
              "[1, 2, 0, 1, 2]"
            ]
          },
          "metadata": {},
          "execution_count": 7
        }
      ]
    },
    {
      "cell_type": "code",
      "metadata": {
        "colab": {
          "base_uri": "https://localhost:8080/"
        },
        "id": "49q7LkDvH1Fl",
        "outputId": "ed87a51e-7323-4ef9-f6a7-2f1edef5d5a3"
      },
      "source": [
        "class Tutor():\n",
        "  def __init__(self,nama):\n",
        "    self.nama = nama\n",
        "\n",
        "tutorDs = Tutor(\"adam\")\n",
        "print(tutorDs.nama)\n"
      ],
      "execution_count": null,
      "outputs": [
        {
          "output_type": "stream",
          "name": "stdout",
          "text": [
            "adam\n"
          ]
        }
      ]
    },
    {
      "cell_type": "code",
      "metadata": {
        "colab": {
          "base_uri": "https://localhost:8080/"
        },
        "id": "SNOq7UGTMdSl",
        "outputId": "5ea9c127-83ea-4dcb-a853-29a531953dc4"
      },
      "source": [
        "class Employee:\n",
        "  empCount = 0\n",
        "\n",
        "  def __init__(self, name, salary):\n",
        "    self.name = name\n",
        "    self.salary = salary\n",
        "    Employee.empCount += 1\n",
        "\n",
        "emp0 = Employee(\"Adam\", \"10\")\n",
        "emp1 = Employee(\"Kurnia\", \"8\")\n",
        "emp2 = Employee(\"Dana\", \"9\")\n",
        "emp3 = Employee(\"Pradana\", \"7\")\n",
        "\n",
        "print(emp2.empCount)\n"
      ],
      "execution_count": null,
      "outputs": [
        {
          "output_type": "stream",
          "name": "stdout",
          "text": [
            "4\n"
          ]
        }
      ]
    },
    {
      "cell_type": "code",
      "metadata": {
        "colab": {
          "base_uri": "https://localhost:8080/"
        },
        "id": "cHkaxQOINbRz",
        "outputId": "de7ee14c-9377-43b7-cc91-edfdac4d7870"
      },
      "source": [
        "class OperasiAritmatika:\n",
        "  def __init__(self, a, b):\n",
        "    self.a = a\n",
        "    self.b = b\n",
        "  def penjumlahan(self):\n",
        "    return self.a + self.b\n",
        "  def pengurangan(self):\n",
        "    return self.a - self.b\n",
        "  def perkalian(self):\n",
        "    return self.a * self.b\n",
        "  def pembagian(self):\n",
        "    return self.a /self.b\n",
        "\n",
        "op1 = OperasiAritmatika(10,3)\n",
        "a = op1.penjumlahan()\n",
        "b = op1.pengurangan()\n",
        "c = op1.perkalian()\n",
        "d = op1.pembagian()\n",
        "\n",
        "print('Hasil jumlah: ', a)\n",
        "print('Hasil kurang: ', b)\n",
        "print('Hasil kali: ', c)\n",
        "print('Hasil bagi: ', d)"
      ],
      "execution_count": null,
      "outputs": [
        {
          "output_type": "stream",
          "name": "stdout",
          "text": [
            "Hasil jumlah:  13\n",
            "Hasil kurang:  7\n",
            "Hasil kali:  30\n",
            "Hasil bagi:  3.3333333333333335\n"
          ]
        }
      ]
    }
  ]
}