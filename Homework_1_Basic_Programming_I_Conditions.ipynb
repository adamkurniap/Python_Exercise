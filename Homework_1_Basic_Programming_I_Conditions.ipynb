{
  "nbformat": 4,
  "nbformat_minor": 0,
  "metadata": {
    "colab": {
      "name": "Homework 1 - Basic Programming I: Conditions.ipynb",
      "provenance": []
    },
    "kernelspec": {
      "name": "python3",
      "display_name": "Python 3"
    },
    "language_info": {
      "name": "python"
    }
  },
  "cells": [
    {
      "cell_type": "markdown",
      "metadata": {
        "id": "RHTOXy4hzEQ1"
      },
      "source": [
        "#Jawaban Nomor 1"
      ]
    },
    {
      "cell_type": "code",
      "metadata": {
        "colab": {
          "base_uri": "https://localhost:8080/"
        },
        "id": "V-bi-J7fXkBl",
        "outputId": "f02d86a6-c948-4590-a8c6-fb86c82d4a66"
      },
      "source": [
        "KM = int(input(\"Berapa KM jarak yang ditempuh: \"))\n",
        "\n",
        "if KM > 5000000:\n",
        "  print(\"Angka tidak boleh melebihi 5000000\")\n",
        "elif KM == 0:\n",
        "  print(\"biayanya adalah Rp{0}\".format(KM + 10000))\n",
        "elif 0 < KM <= 10:\n",
        "  print(\"biayanya adalah Rp{0}\".format(KM * 2500 + 10000))\n",
        "elif 10 < KM <= 25:\n",
        "  print(\"biayanya adalah Rp{0}\".format(int((KM - 10) * 2250) + ((KM -(KM-10)) * 2500) +10000))\n",
        "elif 25 < KM <= 50:\n",
        "  print(\"biayanya adalah Rp{0}\".format(int((KM - 25) * 2000) + ((KM -(KM-15)) * 2250) + ((KM -(KM-10)) * 2500) +10000))\n",
        "elif 50 < KM <= 500:\n",
        "  print(\"biayanya adalah Rp{0}\".format(int((KM - 50) * 1750) + (25 * 2000) + (15 * 2250) + (10 * 2500) + 10000))\n",
        "else:\n",
        "  print(\"Tidak bisa melakukan perjalanan, batas maksimal adalah 500 KM\")\n",
        "\n",
        "\n"
      ],
      "execution_count": null,
      "outputs": [
        {
          "output_type": "stream",
          "name": "stdout",
          "text": [
            "Berapa KM jarak yang ditempuh: 420\n",
            "biayanya adalah Rp766250\n"
          ]
        }
      ]
    },
    {
      "cell_type": "markdown",
      "metadata": {
        "id": "MEv6bsZ3zBhy"
      },
      "source": [
        "#Jawaban Nomor 2"
      ]
    },
    {
      "cell_type": "code",
      "metadata": {
        "colab": {
          "base_uri": "https://localhost:8080/"
        },
        "id": "5guV7LkyzZiV",
        "outputId": "448322aa-0a65-4d0f-b7ae-ff93c6ee6d83"
      },
      "source": [
        "a = int(input(\"Masukkan bilangan pertama: \"))\n",
        "b = int(input(\"Masukkan bilangan kedua: \"))\n",
        "c = int(input(\"Masukkan bilangan ketiga: \"))\n",
        "\n",
        "angka = [a, b, c]\n",
        "urutin_angka = sorted(angka)\n",
        "\n",
        "if a > 5000000 or b > 5000000 or c > 5000000:\n",
        "  print(\"Bilangan di luar jangkauan\")\n",
        "else:\n",
        "  print(\"Bilangan tengahnya adalah {0}\".format(int(urutin_angka[1])))"
      ],
      "execution_count": null,
      "outputs": [
        {
          "output_type": "stream",
          "name": "stdout",
          "text": [
            "Masukkan bilangan pertama: 34935\n",
            "Masukkan bilangan kedua: 68686\n",
            "Masukkan bilangan ketiga: 1112\n",
            "Bilangan tengahnya adalah 34935\n"
          ]
        }
      ]
    }
  ]
}