{
  "nbformat": 4,
  "nbformat_minor": 0,
  "metadata": {
    "colab": {
      "name": "Homework 2 - Basic Programming II: Iteration.ipynb",
      "provenance": [],
      "collapsed_sections": []
    },
    "kernelspec": {
      "name": "python3",
      "display_name": "Python 3"
    },
    "language_info": {
      "name": "python"
    }
  },
  "cells": [
    {
      "cell_type": "markdown",
      "metadata": {
        "id": "ItuKakO2Yar6"
      },
      "source": [
        "#JAWABAN UNTUK SOAL NOMOR 1\n",
        "\n",
        "\n"
      ]
    },
    {
      "cell_type": "code",
      "metadata": {
        "colab": {
          "base_uri": "https://localhost:8080/"
        },
        "id": "nJ8Y9llaYjG7",
        "outputId": "30bcc2e6-121a-4637-f5b0-99aacbec65a4"
      },
      "source": [
        "n = int(input(\"Input angka terserah: \"))\n",
        "if n > 0:\n",
        "  for i in range(1, n+1):\n",
        "   for j in range(1, i+1):\n",
        "      print(j, end='')\n",
        "   print(\" \")\n",
        "else:\n",
        "  print(\"Angka harus lebih besar dari 0!!\")"
      ],
      "execution_count": null,
      "outputs": [
        {
          "output_type": "stream",
          "name": "stdout",
          "text": [
            "Input angka terserah: 3\n",
            "1 \n",
            "12 \n",
            "123 \n"
          ]
        }
      ]
    },
    {
      "cell_type": "markdown",
      "metadata": {
        "id": "eYM1iQvMwfIP"
      },
      "source": [
        "# New Section"
      ]
    },
    {
      "cell_type": "code",
      "metadata": {
        "id": "HzjXro1bvuQE"
      },
      "source": [
        "#JAWABAN UNTUK SOAL NOMOR 2"
      ],
      "execution_count": null,
      "outputs": []
    },
    {
      "cell_type": "code",
      "metadata": {
        "colab": {
          "base_uri": "https://localhost:8080/"
        },
        "id": "rubn_rCwwljX",
        "outputId": "d479afc6-31a9-4caf-9dba-d2b17481e1bd"
      },
      "source": [
        "input = int(input(\"masukkan angka terserah: \"))\n",
        "reversed = int(str(input)[::-1])\n",
        "print(reversed)\n",
        "del input"
      ],
      "execution_count": null,
      "outputs": [
        {
          "output_type": "stream",
          "name": "stdout",
          "text": [
            "masukkan angka terserah: 1\n",
            "1\n"
          ]
        }
      ]
    }
  ]
}