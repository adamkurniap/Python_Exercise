{
  "nbformat": 4,
  "nbformat_minor": 0,
  "metadata": {
    "colab": {
      "name": "Session 12",
      "provenance": []
    },
    "kernelspec": {
      "name": "python3",
      "display_name": "Python 3"
    },
    "language_info": {
      "name": "python"
    }
  },
  "cells": [
    {
      "cell_type": "code",
      "metadata": {
        "id": "OKJmB-rPVfYO"
      },
      "source": [
        "list1 = ['adam', 'kurnia', 'pradana', 'dana']\n",
        "list2 = ['adam', 'pradana']"
      ],
      "execution_count": null,
      "outputs": []
    },
    {
      "cell_type": "code",
      "metadata": {
        "colab": {
          "base_uri": "https://localhost:8080/"
        },
        "id": "8dGsz6qXZT7d",
        "outputId": "b96f7507-83e7-49ad-cf99-266406b700f7"
      },
      "source": [
        "len(list1)"
      ],
      "execution_count": null,
      "outputs": [
        {
          "output_type": "execute_result",
          "data": {
            "text/plain": [
              "4"
            ]
          },
          "metadata": {},
          "execution_count": 17
        }
      ]
    },
    {
      "cell_type": "code",
      "metadata": {
        "id": "XKAZHb-EcLmF"
      },
      "source": [
        ""
      ],
      "execution_count": null,
      "outputs": []
    },
    {
      "cell_type": "code",
      "metadata": {
        "colab": {
          "base_uri": "https://localhost:8080/"
        },
        "id": "fF2GLcv6Vwbs",
        "outputId": "4dde719c-a62e-43fa-9229-1ec1486e32f6"
      },
      "source": [
        "for i in range(len(list1)):\n",
        "  i = len(list1) - 1 - i\n",
        "  print(list1[i])\n",
        "  "
      ],
      "execution_count": null,
      "outputs": [
        {
          "output_type": "stream",
          "name": "stdout",
          "text": [
            "dana\n",
            "pradana\n",
            "kurnia\n",
            "adam\n"
          ]
        }
      ]
    },
    {
      "cell_type": "code",
      "metadata": {
        "id": "PyTOhWkqXcfk"
      },
      "source": [
        "range(4) === 0,1,2,3\n",
        "range(4,-1)"
      ],
      "execution_count": null,
      "outputs": []
    },
    {
      "cell_type": "code",
      "metadata": {
        "colab": {
          "base_uri": "https://localhost:8080/"
        },
        "id": "J2IVS8NOXk_V",
        "outputId": "922fefa0-5788-4a79-c17a-43dbeaafdbfe"
      },
      "source": [
        "for j in range(len(list1)-1,-1,-1):\n",
        "  print(list1[j])"
      ],
      "execution_count": null,
      "outputs": [
        {
          "output_type": "stream",
          "name": "stdout",
          "text": [
            "dana\n",
            "pradana\n",
            "kurnia\n",
            "adam\n"
          ]
        }
      ]
    },
    {
      "cell_type": "code",
      "metadata": {
        "colab": {
          "base_uri": "https://localhost:8080/"
        },
        "id": "3xULwBehcNVk",
        "outputId": "cccf2da3-8681-4a22-fff9-071585914ed5"
      },
      "source": [
        "listAngka = [1,2,3,4,5]\n",
        "listAngka.append(\"ashiap\")\n"
      ],
      "execution_count": null,
      "outputs": [
        {
          "output_type": "execute_result",
          "data": {
            "text/plain": [
              "[1, 2, 3, 4, 5, 'ashiap']"
            ]
          },
          "metadata": {},
          "execution_count": 22
        }
      ]
    },
    {
      "cell_type": "code",
      "metadata": {
        "colab": {
          "base_uri": "https://localhost:8080/"
        },
        "id": "shrERrqqderg",
        "outputId": "c3ac4ddc-0a04-4d96-b2fa-843ed9778398"
      },
      "source": [
        "listAngka.remove('numpang')\n",
        "print(listAngka)"
      ],
      "execution_count": null,
      "outputs": [
        {
          "output_type": "stream",
          "name": "stdout",
          "text": [
            "[1, 'numpang', 2, 3, 4, 5, 'ashiap']\n"
          ]
        }
      ]
    },
    {
      "cell_type": "code",
      "metadata": {
        "colab": {
          "base_uri": "https://localhost:8080/",
          "height": 35
        },
        "id": "YH8odzKZfevx",
        "outputId": "46c84b42-2596-4a05-8196-1e9af954bc72"
      },
      "source": [
        "listAngka.pop(1)"
      ],
      "execution_count": null,
      "outputs": [
        {
          "output_type": "execute_result",
          "data": {
            "application/vnd.google.colaboratory.intrinsic+json": {
              "type": "string"
            },
            "text/plain": [
              "'numpang'"
            ]
          },
          "metadata": {},
          "execution_count": 29
        }
      ]
    },
    {
      "cell_type": "code",
      "metadata": {
        "id": "2bHjhmNOfic_"
      },
      "source": [
        "listAngka[5] = 'blomsiap'"
      ],
      "execution_count": null,
      "outputs": []
    },
    {
      "cell_type": "code",
      "metadata": {
        "colab": {
          "base_uri": "https://localhost:8080/"
        },
        "id": "lr3nBFhygwZM",
        "outputId": "6ddcaa6b-20db-4cc3-babb-170efceacead"
      },
      "source": [
        "listAngka"
      ],
      "execution_count": null,
      "outputs": [
        {
          "output_type": "execute_result",
          "data": {
            "text/plain": [
              "[1, 2, 3, 4, 5, 'blomsiap', 'oke']"
            ]
          },
          "metadata": {},
          "execution_count": 35
        }
      ]
    },
    {
      "cell_type": "code",
      "metadata": {
        "colab": {
          "base_uri": "https://localhost:8080/"
        },
        "id": "D-7Y-CHRhINu",
        "outputId": "433e141d-91df-410a-d91c-fd89aaa9871e"
      },
      "source": [
        "angka = 8\n",
        "\n",
        "angka not in listAngka"
      ],
      "execution_count": null,
      "outputs": [
        {
          "output_type": "execute_result",
          "data": {
            "text/plain": [
              "True"
            ]
          },
          "metadata": {},
          "execution_count": 39
        }
      ]
    },
    {
      "cell_type": "code",
      "metadata": {
        "id": "Prv90FEXhxj1"
      },
      "source": [
        "listA = ['adam', 'kurnia']\n",
        "listB = ['dana', 'pradana']\n",
        "\n",
        "listM = listB + listA"
      ],
      "execution_count": null,
      "outputs": []
    },
    {
      "cell_type": "code",
      "metadata": {
        "id": "7Ap1nLAEh9LD"
      },
      "source": [
        "listC = [10]\n"
      ],
      "execution_count": null,
      "outputs": []
    },
    {
      "cell_type": "code",
      "metadata": {
        "id": "2rHHxpoHiDdg"
      },
      "source": [
        "listM.extend(listC)"
      ],
      "execution_count": null,
      "outputs": []
    },
    {
      "cell_type": "code",
      "metadata": {
        "colab": {
          "base_uri": "https://localhost:8080/"
        },
        "id": "gKqwntf6iHVm",
        "outputId": "9df75a8a-0ac2-4708-bbad-21c2d178a31e"
      },
      "source": [
        "listM"
      ],
      "execution_count": null,
      "outputs": [
        {
          "output_type": "execute_result",
          "data": {
            "text/plain": [
              "['dana', 'pradana', 'adam', 'kurnia', 10]"
            ]
          },
          "metadata": {},
          "execution_count": 44
        }
      ]
    },
    {
      "cell_type": "code",
      "metadata": {
        "id": "iRnD0HEeiyD0"
      },
      "source": [
        ""
      ],
      "execution_count": null,
      "outputs": []
    },
    {
      "cell_type": "markdown",
      "metadata": {
        "id": "t67FAjy0izLQ"
      },
      "source": [
        "#Exercise"
      ]
    },
    {
      "cell_type": "code",
      "metadata": {
        "id": "Xzs4VPAEi1Tf"
      },
      "source": [
        "listA = ['a','b','c','a','b','b','c']\n",
        "listB = ['a','b','c']\n",
        "\n",
        "a:2\n",
        "b:3\n",
        "c:2"
      ],
      "execution_count": null,
      "outputs": []
    },
    {
      "cell_type": "code",
      "metadata": {
        "colab": {
          "base_uri": "https://localhost:8080/"
        },
        "id": "rI7VKvrej4FB",
        "outputId": "60f484cd-c7f6-4b53-b8ef-30bf6ed5ca50"
      },
      "source": [
        "for i in listB:\n",
        "  count = 0\n",
        "  for j in listA:\n",
        "    if i == j:\n",
        "      count += 1\n",
        "  print(f\"{i}:{count}\")"
      ],
      "execution_count": null,
      "outputs": [
        {
          "output_type": "stream",
          "name": "stdout",
          "text": [
            "a:2\n",
            "b:3\n",
            "c:2\n"
          ]
        }
      ]
    },
    {
      "cell_type": "code",
      "metadata": {
        "id": "a7g5uURYtXYu"
      },
      "source": [
        ""
      ],
      "execution_count": null,
      "outputs": []
    },
    {
      "cell_type": "code",
      "metadata": {
        "id": "MPV1ANTRoRqV"
      },
      "source": [
        "tupleA = (2, 'adam', 14)"
      ],
      "execution_count": null,
      "outputs": []
    },
    {
      "cell_type": "code",
      "metadata": {
        "colab": {
          "base_uri": "https://localhost:8080/"
        },
        "id": "LeZPAJb0oVXz",
        "outputId": "225146d0-af74-4595-c970-a93e556922fd"
      },
      "source": [
        "for x in tupleA:\n",
        "  print(x)"
      ],
      "execution_count": null,
      "outputs": [
        {
          "output_type": "stream",
          "name": "stdout",
          "text": [
            "2\n",
            "adam\n",
            "14\n"
          ]
        }
      ]
    },
    {
      "cell_type": "markdown",
      "metadata": {
        "id": "o92kWBCotYll"
      },
      "source": [
        "#Set"
      ]
    },
    {
      "cell_type": "code",
      "metadata": {
        "id": "zyLUPwg1tdPX"
      },
      "source": [
        "setA = {3,'dana','adam',14,2}"
      ],
      "execution_count": null,
      "outputs": []
    },
    {
      "cell_type": "code",
      "metadata": {
        "colab": {
          "base_uri": "https://localhost:8080/"
        },
        "id": "L_apMNxjuBsi",
        "outputId": "f2869922-b84c-443b-adf0-ea1780956802"
      },
      "source": [
        "setA"
      ],
      "execution_count": null,
      "outputs": [
        {
          "output_type": "execute_result",
          "data": {
            "text/plain": [
              "{14, 2, 3, 'adam', 'dana'}"
            ]
          },
          "metadata": {},
          "execution_count": 73
        }
      ]
    }
  ]
}